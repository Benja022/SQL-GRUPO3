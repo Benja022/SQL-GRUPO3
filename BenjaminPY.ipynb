{
 "cells": [
  {
   "cell_type": "markdown",
   "metadata": {},
   "source": [
    "# Importar Librerías Necesarias\n",
    "Importar las librerías pandas y sqlalchemy."
   ]
  },
  {
   "cell_type": "code",
   "execution_count": 12,
   "metadata": {},
   "outputs": [],
   "source": [
    "import pandas as pd\n",
    "from sqlalchemy import create_engine"
   ]
  },
  {
   "cell_type": "markdown",
   "metadata": {},
   "source": [
    "# Conectar a la Base de Datos\n",
    "Establecer una conexión con la base de datos gymSQL usando SQLAlchemy."
   ]
  },
  {
   "cell_type": "code",
   "execution_count": 13,
   "metadata": {},
   "outputs": [
    {
     "name": "stdout",
     "output_type": "stream",
     "text": [
      "(1,)\n"
     ]
    }
   ],
   "source": [
    "from sqlalchemy import create_engine, text\n",
    "\n",
    "\n",
    "engine = create_engine('sqlite:///gymSQL.db')\n",
    "\n",
    "# Probar la conexión\n",
    "with engine.connect() as connection:\n",
    "    result = connection.execute(text(\"SELECT 1\"))\n",
    "    print(result.fetchone())"
   ]
  },
  {
   "cell_type": "markdown",
   "metadata": {},
   "source": [
    "# Leer Archivos CSV\n",
    "Leer los archivos .CSV usando pandas."
   ]
  },
  {
   "cell_type": "code",
   "execution_count": 14,
   "metadata": {},
   "outputs": [],
   "source": [
    "import os\n",
    "import glob\n",
    "\n",
    "csv_directory = '/home/benjamin/Documentos/IronHack/Databases/SQLGymProject/*.csv'\n",
    "\n",
    "# Leer todos los archivos CSV en el directorio\n",
    "csv_files = glob.glob(csv_directory)\n",
    "\n",
    "# Crear un diccionario para almacenar los DataFrames\n",
    "dataframes = {}"
   ]
  },
  {
   "cell_type": "markdown",
   "metadata": {},
   "source": [
    "# Crear Tablas en la Base de Datos\n",
    "Crear tablas en la base de datos para cada archivo .CSV."
   ]
  },
  {
   "cell_type": "code",
   "execution_count": 15,
   "metadata": {},
   "outputs": [],
   "source": [
    "# Crear Tablas en la Base de Datos\n",
    "\n",
    "# Crear tablas en la base de datos para cada archivo .CSV\n",
    "for table_name, df in dataframes.items():\n",
    "    df.to_sql(table_name, con=engine, if_exists='replace', index=False)\n",
    "    print(f\"Tabla '{table_name}' creada en la base de datos.\")"
   ]
  },
  {
   "cell_type": "markdown",
   "metadata": {},
   "source": [
    "# Insertar Datos en las Tablas\n",
    "Insertar los datos de los archivos .CSV en las tablas correspondientes de la base de datos."
   ]
  },
  {
   "cell_type": "code",
   "execution_count": 16,
   "metadata": {},
   "outputs": [],
   "source": [
    "# Insertar Datos en las Tablas\n",
    "\n",
    "# Insertar los datos de los archivos .CSV en las tablas correspondientes de la base de datos\n",
    "for table_name, df in dataframes.items():\n",
    "    df.to_sql(table_name, con=engine, if_exists='append', index=False)\n",
    "    print(f\"Datos insertados en la tabla '{table_name}' en la base de datos.\")"
   ]
  }
 ],
 "metadata": {
  "kernelspec": {
   "display_name": "base",
   "language": "python",
   "name": "python3"
  },
  "language_info": {
   "codemirror_mode": {
    "name": "ipython",
    "version": 3
   },
   "file_extension": ".py",
   "mimetype": "text/x-python",
   "name": "python",
   "nbconvert_exporter": "python",
   "pygments_lexer": "ipython3",
   "version": "3.12.4"
  }
 },
 "nbformat": 4,
 "nbformat_minor": 2
}
